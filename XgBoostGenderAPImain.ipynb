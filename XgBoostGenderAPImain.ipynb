{
 "cells": [
  {
   "cell_type": "code",
   "execution_count": 1,
   "metadata": {},
   "outputs": [],
   "source": [
    "#importing Libraries required to run the model..\n",
    "import os\n",
    "import sys\n",
    "\n",
    "import pandas as pd\n",
    "import numpy as np\n",
    "import matplotlib.pyplot as plt\n",
    "%matplotlib inline\n",
    "import seaborn as sns\n",
    "if int(os.environ.get(\"MODERN_PANDAS_EPUB\", 0)):\n",
    "    import prep # noqa\n",
    "from sklearn.metrics import mutual_info_score\n",
    "\n",
    "pd.set_option('display.max_colwidth', -1)\n",
    "pd.options.display.max_rows = 10\n",
    "sns.set(style='ticks', context='talk')\n",
    "# Read csv in a Spark\n",
    "#Gender = pd.read_csv(GenderFilePath,sep='^') \n",
    "#Gender.info()\n",
    "\n",
    "import re\n",
    "import numpy as np\n",
    "import pandas as pd\n",
    "from pprint import pprint\n",
    "pd.set_option('display.max_columns', None)  # or 1000\n",
    "pd.set_option('display.max_rows', None)  # or 1000\n",
    "pd.set_option('display.max_colwidth', -1)  # or 199\n",
    "# Gensim\n",
    "import gensim\n",
    "import gensim.corpora as corpora\n",
    "from gensim.utils import simple_preprocess\n",
    "from gensim.models import CoherenceModel\n",
    "\n",
    "# spacy for lemmatization\n",
    "import spacy\n",
    "\n",
    "# Plotting tools\n",
    "import pyLDAvis\n",
    "import pyLDAvis.gensim  # don't skip this\n",
    "import matplotlib.pyplot as plt\n",
    "%matplotlib inline\n",
    "\n",
    "# Enable logging for gensim - optional\n",
    "import logging\n",
    "logging.basicConfig(format='%(asctime)s : %(levelname)s : %(message)s', level=logging.ERROR)\n",
    "import re\n",
    "from urllib.parse import urlparse\n",
    "import warnings\n",
    "warnings.filterwarnings(\"ignore\",category=DeprecationWarning)\n",
    "import nltk\n",
    "from sklearn.metrics import classification_report\n",
    "from sklearn.metrics import confusion_matrix\n",
    "from sklearn.metrics import accuracy_score\n",
    "from sklearn.pipeline import Pipeline\n",
    "from sklearn.linear_model import LogisticRegression\n",
    "from sklearn.tree import DecisionTreeClassifier\n",
    "from sklearn.neighbors import KNeighborsClassifier\n",
    "from sklearn.discriminant_analysis import LinearDiscriminantAnalysis\n",
    "from sklearn.naive_bayes import GaussianNB\n",
    "from sklearn.svm import SVC\n",
    "from sklearn.ensemble import AdaBoostClassifier\n",
    "from sklearn.ensemble import GradientBoostingClassifier\n",
    "from sklearn.ensemble import RandomForestClassifier\n",
    "from sklearn.ensemble import ExtraTreesClassifier\n",
    "from numpy import arange\n",
    "from matplotlib import pyplot\n",
    "from pandas import read_csv\n",
    "from pandas import set_option\n",
    "from pandas.plotting import scatter_matrix\n",
    "from sklearn.preprocessing import StandardScaler\n",
    "from sklearn.model_selection import train_test_split\n",
    "from sklearn.model_selection import KFold\n",
    "from sklearn.model_selection import cross_val_score\n",
    "from sklearn.model_selection import GridSearchCV\n",
    "from sklearn.linear_model import LinearRegression\n",
    "from sklearn.linear_model import Lasso\n",
    "from sklearn.linear_model import ElasticNet\n",
    "from sklearn.neighbors import KNeighborsRegressor\n",
    "from sklearn.svm import SVR\n",
    "\n",
    "from sklearn.tree import DecisionTreeRegressor"
   ]
  },
  {
   "cell_type": "code",
   "execution_count": null,
   "metadata": {},
   "outputs": [],
   "source": [
    "# Read csv in a Spark\n",
    "GenderFilePath = \"/usr/local/bin/Gender Prediction/Data/genderprediction.txt\"\n",
    "\n",
    "import pandas as pd\n",
    "Gender = pd.read_csv(GenderFilePath, delimiter='\\t', names=[\"UserId\", \"Gender\", \"Age\", \"Language\", \"description\", \"long_description\", \"URL\", \"DateTime\"])\n",
    "\n",
    "Gender.head(1000)"
   ]
  },
  {
   "cell_type": "code",
   "execution_count": 3,
   "metadata": {},
   "outputs": [],
   "source": [
    "#Copy the dataframe\n",
    "df= Gender.copy()"
   ]
  },
  {
   "cell_type": "code",
   "execution_count": 4,
   "metadata": {},
   "outputs": [
    {
     "name": "stderr",
     "output_type": "stream",
     "text": [
      "[nltk_data] Downloading package stopwords to /root/nltk_data...\n",
      "[nltk_data]   Package stopwords is already up-to-date!\n"
     ]
    }
   ],
   "source": [
    "# Load Stop words\n",
    "    nltk.download('stopwords')\n",
    "    from nltk.corpus import stopwords\n",
    "    stop_words = stopwords.words('english')\n",
    "    stop_words.extend(['from', 'subject', 're', 'edu', 'use'])"
   ]
  },
  {
   "cell_type": "code",
   "execution_count": null,
   "metadata": {},
   "outputs": [],
   "source": []
  },
  {
   "cell_type": "code",
   "execution_count": 5,
   "metadata": {},
   "outputs": [],
   "source": [
    "def Datapreprocess(df):\n",
    "    \n",
    "    # Filling long_description missing values with description column..\n",
    "    df['long_description'].fillna(df['description'])\n",
    "#droping missing values....\n",
    "    del df['description']\n",
    "    df.dropna(subset=['UserId'],inplace=True)\n",
    "    df.dropna(subset=['Gender'],inplace=True)\n",
    "    df.dropna(subset=['long_description'],inplace=True)\n",
    "    df.dropna(subset=['DateTime'],inplace=True)\n",
    "\n",
    "    df['Create Time'] = pd.to_datetime(df['DateTime'])\n",
    "\n",
    "    # Category Based Features \n",
    "    df['URL'].str.strip()\n",
    "    df['domain'] = df['URL'].str.split('//').str[-1].str.split('/').str[0]\n",
    "    df['Count'] = df['URL'].str.split('//').str[-1].str.split('/').str.len()\n",
    "    mask = df['Count'] > 2\n",
    "\n",
    "    df['Categ'] = np.where(mask,df['URL'].str.split('//').str[-1].str.split('/').str[1], 'No Category')\n",
    "    df['Subcateg'] = np.where(mask, df['URL'].str.split('//').str[-1].str.split('/').str[2], 'No Subcategory')\n",
    "\n",
    "    df['Categ'] = df.Categ.astype('category')\n",
    "    df['Subcateg']= df.Subcateg.astype('category')\n",
    "    df['domain'] = df.domain.astype('category')\n",
    "    df1=df[mask]\n",
    "    # Time n Squential Based\n",
    "    df1['Gender'] = df1['Gender'].astype('category')\n",
    "    df1[\"Create Time\"]= pd.to_datetime(df1['Create Time'])\n",
    "    df1['time_hour'] = df1['Create Time'].apply(lambda x: x.hour)\n",
    "    df1.Gender.replace(['M', 'F'], [0, 1], inplace=True)\n",
    "\n",
    "    df2 = df1[df1['long_description'].notna()]\n",
    "    def sent_to_words(sentences):\n",
    "        for sent in sentences:\n",
    "            sent = re.sub('\\S*@\\S*\\s?', '', sent)  # remove emails\n",
    "            sent = re.sub('\\s+', ' ', sent)  # remove newline chars\n",
    "            sent = re.sub(\"\\'\", \"\", sent)  # remove single quotes\n",
    "            sent = gensim.utils.simple_preprocess(str(sent), deacc=True) \n",
    "            yield(sent)  \n",
    "    # Convert to list\n",
    "    data_ld = df2.long_description.values.tolist()\n",
    "\n",
    "    data_words = list(sent_to_words(data_ld))\n",
    "     #Define functions for stopwords, bigrams, trigrams and lemmatization\n",
    "    def remove_stopwords(texts):\n",
    "        return [[word for word in simple_preprocess(str(doc)) if word not in stop_words] for doc in texts]\n",
    "\n",
    "    def make_bigrams(texts):\n",
    "        return [bigram_mod[doc] for doc in texts]\n",
    "\n",
    "    def make_trigrams(texts):\n",
    "        return [trigram_mod[bigram_mod[doc]] for doc in texts]\n",
    "\n",
    "    def lemmatization(texts, allowed_postags=['NOUN', 'ADJ', 'VERB', 'ADV']):\n",
    "        \"\"\"https://spacy.io/api/annotation\"\"\"\n",
    "        texts_out = []\n",
    "        for sent in texts:\n",
    "            doc = nlp(\" \".join(sent)) \n",
    "            texts_out.append([token.lemma_ for token in doc if token.pos_ in allowed_postags])\n",
    "        return texts_out\n",
    "\n",
    "    # Build the bigram and trigram models\n",
    "    bigram = gensim.models.Phrases(data_words, min_count=5, threshold=100) # higher threshold fewer phrases.\n",
    "    trigram = gensim.models.Phrases(bigram[data_words], threshold=100)  \n",
    "\n",
    "    # Faster way to get a sentence clubbed as a trigram/bigram\n",
    "    bigram_mod = gensim.models.phrases.Phraser(bigram)\n",
    "    trigram_mod = gensim.models.phrases.Phraser(trigram)\n",
    "    # Remove Stop Words\n",
    "    data_words_nostops = remove_stopwords(data_words)\n",
    "\n",
    "    # Form Bigrams\n",
    "    data_words_bigrams = make_bigrams(data_words_nostops)\n",
    "\n",
    "    # Initialize spacy 'en' model, keeping only tagger component (for efficiency)\n",
    "    # python3 -m spacy download en\n",
    "    nlp = spacy.load('en', disable=['parser', 'ner'])\n",
    "\n",
    "    # Do lemmatization keeping only noun, adj, vb, adv\n",
    "    data_lemmatized = lemmatization(data_words_bigrams, allowed_postags=['NOUN', 'ADJ', 'VERB', 'ADV'])\n",
    "    # Create Dictionary\n",
    "    id2word = corpora.Dictionary(data_lemmatized)\n",
    "\n",
    "    # Create Corpus\n",
    "    texts = data_lemmatized\n",
    "\n",
    "    # Term Document Frequency\n",
    "    corpus = [id2word.doc2bow(text) for text in texts]\n",
    "    #For Gibbs sampling using MAllet package...\n",
    "    mallet_path = '/usr/local/bin//mallet-2.0.8/bin/mallet' # update this path\n",
    "    ldamallet = gensim.models.wrappers.LdaMallet(mallet_path, corpus=corpus, num_topics=20, id2word=id2word)\n",
    "\n",
    "    # Build LDA model\n",
    "    lda_model = gensim.models.ldamodel.LdaModel(corpus=corpus,\n",
    "                                               id2word=id2word,\n",
    "                                               num_topics=20, \n",
    "                                               random_state=100,\n",
    "                                               update_every=1,\n",
    "                                               chunksize=100,\n",
    "                                               passes=10,\n",
    "                                               alpha='auto',\n",
    "                                               per_word_topics=True)\n",
    "\n",
    "    def format_topics_sentences(ldamodel=lda_model, corpus=corpus, texts=data_ld):\n",
    "        # Init output\n",
    "        sent_topics_df = pd.DataFrame()\n",
    "\n",
    "        # Get main topic in each document\n",
    "        for i, row in enumerate(ldamodel[corpus]):\n",
    "            row = sorted(row, key=lambda x: (x[1]), reverse=True)\n",
    "            # Get the Dominant topic, Perc Contribution and Keywords for each document\n",
    "            for j, (topic_num, prop_topic) in enumerate(row):\n",
    "                if j == 0:  # => dominant topic\n",
    "                    wp = ldamodel.show_topic(topic_num)\n",
    "                    topic_keywords = \", \".join([word for word, prop in wp])\n",
    "                    sent_topics_df = sent_topics_df.append(pd.Series([int(topic_num), round(prop_topic,4), topic_keywords]), ignore_index=True)\n",
    "                else:\n",
    "                    break\n",
    "        sent_topics_df.columns = ['Dominant_Topic', 'Perc_Contribution', 'Topic_Keywords']\n",
    "\n",
    "        # Add original text to the end of the output\n",
    "        contents = pd.Series(texts)\n",
    "        sent_topics_df = pd.concat([sent_topics_df, contents], axis=1)\n",
    "        return(sent_topics_df)\n",
    "\n",
    "    # Compute Coherence Score\n",
    "    def compute_coherence_values(dictionary, corpus, texts, limit, start=2, step=3):\n",
    "        \"\"\"\n",
    "        Compute c_v coherence for various number of topics\n",
    "    Parameters:\n",
    "        ----------\n",
    "        dictionary : Gensim dictionary\n",
    "        corpus : Gensim corpus\n",
    "        texts : List of input texts\n",
    "        limit : Max num of topics\n",
    "     Returns:\n",
    "        -------\n",
    "        model_list : List of LDA topic models\n",
    "        coherence_values : Coherence values corresponding to the LDA model with respective number of topics\n",
    "        \"\"\"\n",
    "        coherence_values = []\n",
    "        model_list = []\n",
    "        for num_topics in range(start, limit, step):\n",
    "            model = gensim.models.wrappers.LdaMallet(mallet_path, corpus=corpus, num_topics=num_topics, id2word=id2word)\n",
    "            model_list.append(model)\n",
    "            coherencemodel = CoherenceModel(model=model, texts=texts, dictionary=dictionary, coherence='c_v')\n",
    "            coherence_values.append(coherencemodel.get_coherence())\n",
    "\n",
    "        return model_list, coherence_values\n",
    "    coherence_model_ldamallet = CoherenceModel(model=ldamallet, texts=data_lemmatized, dictionary=id2word, coherence='c_v')\n",
    "    coherence_ldamallet = coherence_model_ldamallet.get_coherence()\n",
    "    model_list, coherence_values = compute_coherence_values(dictionary=id2word, corpus=corpus, texts=data_lemmatized, start=2, limit=40, step=6)\n",
    "    # Select the model and print the topics\n",
    "    optimal_model = model_list[3]\n",
    "    model_topics = optimal_model.show_topics(formatted=False)\n",
    "\n",
    "    df_topic_sents_keywords = format_topics_sentences(ldamodel=optimal_model, corpus=corpus, texts=data_ld )\n",
    "\n",
    "    # Format\n",
    "    df_dominant_topic = df_topic_sents_keywords.reset_index()\n",
    "    df_dominant_topic.columns = ['Document_No', 'Dominant_Topic', 'Topic_Perc_Contrib', 'Keywords', 'long_description']\n",
    "\n",
    "    df3 = pd.merge(df1, df_dominant_topic, on='long_description')\n",
    "\n",
    "    params = [\"UserId\", \"Gender\", \"Create Time\",\"Categ\",\"time_hour\", \"URL\", \"Subcateg\", \"Topic_Perc_Contrib\", \"Age\", \"domain\"]\n",
    "\n",
    "    sqFeatures = df3[params]\n",
    "\n",
    "    from sklearn.preprocessing import LabelEncoder, OneHotEncoder\n",
    "    cat_columns = [ \"Gender\",\"Categ\",\"time_hour\", \"Subcateg\", \"Age\", \"domain\"]\n",
    "    sqFeatures[cat_columns].apply(lambda col: col.astype('category'))\n",
    "    # add it to our new dataframe\n",
    "    label_encoders = {}\n",
    "    for col in cat_columns:\n",
    "        print(\"Encoding {}\".format(col))\n",
    "        new_le = LabelEncoder()\n",
    "        sqFeatures[col] = pd.factorize(sqFeatures[col])[0]\n",
    "        sqFeatures[col] = new_le.fit_transform(sqFeatures[col])\n",
    "        label_encoders[col] = new_le  \n",
    "\n",
    "    sqFeatures = sqFeatures.groupby('UserId')[[ \"Gender\", \"Create Time\",\"Categ\",\"time_hour\", \"URL\", \"Subcateg\", \"Topic_Perc_Contrib\", \"Age\", \"domain\"]].agg(lambda x: x.tolist())\n",
    "\n",
    "\n",
    "    # Calculate Mutual Info..\n",
    "    from sklearn.metrics import mutual_info_score\n",
    "    def calc_MI(x, y, bins):\n",
    "        c_xy = np.histogram2d(x, y, bins)[0]\n",
    "        mi = mutual_info_score(None, None, contingency=c_xy)\n",
    "        return mi\n",
    "\n",
    "    sqFeatures['mutualInfo'] = sqFeatures.apply(lambda row: calc_MI(row['Gender'], row['Categ'], 30), axis=1)\n",
    "    sqFeatures['mutualInfo_sub'] = sqFeatures.apply(lambda row: calc_MI(row['Gender'], row['Subcateg'], 30), axis=1)\n",
    "    sqFeatures.loc[:, 'Gender'] = sqFeatures.Gender.map(lambda x: x[0])\n",
    "    sqFeatures.loc[:, 'Age'] = sqFeatures.Age.map(lambda x: x[0])\n",
    "    label1 = sqFeatures['Gender']\n",
    "\n",
    "    sqFeatures['domain'] = sqFeatures['domain'].apply(lambda x: np.array(x))\n",
    "    sqFeatures['Categ'] = sqFeatures['Categ'].apply(lambda x: np.array(x))\n",
    "    sqFeatures['time_hour'] = sqFeatures['time_hour'].apply(lambda x: np.array(x))\n",
    "    sqFeatures['Subcateg'] = sqFeatures['Subcateg'].apply(lambda x: np.array(x))\n",
    "    sqFeatures['Topic_Perc_Contrib'] = sqFeatures['Topic_Perc_Contrib'].apply(lambda x: np.array(x))\n",
    "\n",
    "    sqFeatures['mutualInfo'] = sqFeatures['mutualInfo'].apply(lambda x: np.array(x))\n",
    "    sqFeatures['mutualInfo_sub'] = sqFeatures['mutualInfo_sub'].apply(lambda x: np.array(x))\n",
    "\n",
    "    max_len = sqFeatures['domain'].apply(lambda x: len(x)).max()\n",
    "    print(max_len)\n",
    "\n",
    "    sqFeatures['Categ'] = sqFeatures['Categ'].apply(lambda x: np.pad(x, (0, max_len - len(x)), 'constant', constant_values=0))\n",
    "    sqFeatures['domain'] = sqFeatures['domain'].apply(lambda x: np.pad(x, (0, max_len - len(x)), 'constant', constant_values=0))\n",
    "    sqFeatures['mutualInfo_re'] =  pd.Series(np.pad(np.array(sqFeatures['mutualInfo']) .reshape(-1, 1), ((0, 0), (0, max_len-1)), 'constant').tolist(), index = sqFeatures.index)\n",
    "    sqFeatures['time_hour'] = sqFeatures['time_hour'].apply(lambda x: np.pad(x, (0, max_len - len(x)), 'constant', constant_values=0))        \n",
    "    sqFeatures['Subcateg'] = sqFeatures['Subcateg'].apply(lambda x: np.pad(x, (0, max_len - len(x)), 'constant', constant_values=0))\n",
    "    #sqFeatures['mutualInfo_sub'] = sqFeatures['mutualInfo_sub'].apply(lambda x: np.pad(x, (0, max_len - len(x)), 'constant', constant_values=0))\n",
    "    sqFeatures['Topic_Perc_Contrib'] = sqFeatures['Topic_Perc_Contrib'].apply(lambda x: np.pad(x, (0, max_len - len(x)), 'constant', constant_values=0))\n",
    "    Features = [\"Categ\",\"time_hour\", \"Subcateg\", \"Topic_Perc_Contrib\", \"domain\",\"mutualInfo_re\"]\n",
    "    sqFeatures['combined'] = sqFeatures[Features].values.tolist()\n",
    "    DF = sqFeatures[['Age','Gender','combined']]\n",
    "    return DF"
   ]
  },
  {
   "cell_type": "code",
   "execution_count": null,
   "metadata": {},
   "outputs": [],
   "source": []
  },
  {
   "cell_type": "code",
   "execution_count": 6,
   "metadata": {},
   "outputs": [
    {
     "name": "stderr",
     "output_type": "stream",
     "text": [
      "/usr/local/lib/python3.5/dist-packages/ipykernel_launcher.py:28: SettingWithCopyWarning: \n",
      "A value is trying to be set on a copy of a slice from a DataFrame.\n",
      "Try using .loc[row_indexer,col_indexer] = value instead\n",
      "\n",
      "See the caveats in the documentation: http://pandas.pydata.org/pandas-docs/stable/indexing.html#indexing-view-versus-copy\n",
      "/usr/local/lib/python3.5/dist-packages/ipykernel_launcher.py:29: SettingWithCopyWarning: \n",
      "A value is trying to be set on a copy of a slice from a DataFrame.\n",
      "Try using .loc[row_indexer,col_indexer] = value instead\n",
      "\n",
      "See the caveats in the documentation: http://pandas.pydata.org/pandas-docs/stable/indexing.html#indexing-view-versus-copy\n",
      "/usr/local/lib/python3.5/dist-packages/ipykernel_launcher.py:30: SettingWithCopyWarning: \n",
      "A value is trying to be set on a copy of a slice from a DataFrame.\n",
      "Try using .loc[row_indexer,col_indexer] = value instead\n",
      "\n",
      "See the caveats in the documentation: http://pandas.pydata.org/pandas-docs/stable/indexing.html#indexing-view-versus-copy\n",
      "/usr/local/lib/python3.5/dist-packages/pandas/core/generic.py:6586: SettingWithCopyWarning: \n",
      "A value is trying to be set on a copy of a slice from a DataFrame\n",
      "\n",
      "See the caveats in the documentation: http://pandas.pydata.org/pandas-docs/stable/indexing.html#indexing-view-versus-copy\n",
      "  self._update_inplace(new_data)\n"
     ]
    },
    {
     "name": "stdout",
     "output_type": "stream",
     "text": [
      "Encoding Gender\n"
     ]
    },
    {
     "name": "stderr",
     "output_type": "stream",
     "text": [
      "/usr/local/lib/python3.5/dist-packages/ipykernel_launcher.py:178: SettingWithCopyWarning: \n",
      "A value is trying to be set on a copy of a slice from a DataFrame.\n",
      "Try using .loc[row_indexer,col_indexer] = value instead\n",
      "\n",
      "See the caveats in the documentation: http://pandas.pydata.org/pandas-docs/stable/indexing.html#indexing-view-versus-copy\n",
      "/usr/local/lib/python3.5/dist-packages/ipykernel_launcher.py:179: SettingWithCopyWarning: \n",
      "A value is trying to be set on a copy of a slice from a DataFrame.\n",
      "Try using .loc[row_indexer,col_indexer] = value instead\n",
      "\n",
      "See the caveats in the documentation: http://pandas.pydata.org/pandas-docs/stable/indexing.html#indexing-view-versus-copy\n"
     ]
    },
    {
     "name": "stdout",
     "output_type": "stream",
     "text": [
      "Encoding Categ\n",
      "Encoding time_hour\n",
      "Encoding Subcateg\n",
      "Encoding Age\n",
      "Encoding domain\n",
      "27\n"
     ]
    }
   ],
   "source": [
    "DF = Datapreprocess(df)"
   ]
  },
  {
   "cell_type": "code",
   "execution_count": 7,
   "metadata": {},
   "outputs": [
    {
     "name": "stdout",
     "output_type": "stream",
     "text": [
      "(1048, 3)\n"
     ]
    }
   ],
   "source": [
    "print(DF.shape)"
   ]
  },
  {
   "cell_type": "code",
   "execution_count": null,
   "metadata": {},
   "outputs": [],
   "source": [
    "DF.head()"
   ]
  },
  {
   "cell_type": "code",
   "execution_count": 9,
   "metadata": {},
   "outputs": [
    {
     "name": "stderr",
     "output_type": "stream",
     "text": [
      "/usr/local/lib/python3.5/dist-packages/ipykernel_launcher.py:3: FutureWarning: Method .as_matrix will be removed in a future version. Use .values instead.\n",
      "  This is separate from the ipykernel package so we can avoid doing imports until\n"
     ]
    }
   ],
   "source": [
    "map(lambda x : x,DF['combined'].iloc[0:1])\n",
    "\n",
    "series = DF['combined'].apply(lambda x : np.array(x)).as_matrix().reshape(-1,1)\n",
    "\n",
    "features = np.apply_along_axis(lambda x : x[0], 1, series)\n",
    "\n",
    "y = DF['Gender'].values.reshape(-1,1)"
   ]
  },
  {
   "cell_type": "code",
   "execution_count": 10,
   "metadata": {},
   "outputs": [
    {
     "name": "stdout",
     "output_type": "stream",
     "text": [
      "(1048, 6, 27)\n"
     ]
    }
   ],
   "source": [
    "print(features.shape)"
   ]
  },
  {
   "cell_type": "markdown",
   "metadata": {},
   "source": [
    "# Gender Prediction"
   ]
  },
  {
   "cell_type": "code",
   "execution_count": 11,
   "metadata": {},
   "outputs": [],
   "source": [
    "nsamples, nx, ny = features.shape"
   ]
  },
  {
   "cell_type": "code",
   "execution_count": 12,
   "metadata": {},
   "outputs": [],
   "source": [
    "from xgboost import XGBClassifier\n",
    "from sklearn.model_selection import train_test_split\n",
    "from sklearn.metrics import accuracy_score\n",
    "from matplotlib import pyplot"
   ]
  },
  {
   "cell_type": "code",
   "execution_count": 13,
   "metadata": {},
   "outputs": [],
   "source": [
    "x = features.reshape(nsamples,nx*ny)"
   ]
  },
  {
   "cell_type": "code",
   "execution_count": 14,
   "metadata": {},
   "outputs": [
    {
     "name": "stdout",
     "output_type": "stream",
     "text": [
      "[0]\tvalidation_0-error:0.180191\tvalidation_0-logloss:0.654188\tvalidation_1-error:0.209524\tvalidation_1-logloss:0.656584\n",
      "[1]\tvalidation_0-error:0.182578\tvalidation_0-logloss:0.621629\tvalidation_1-error:0.204762\tvalidation_1-logloss:0.626727\n",
      "[2]\tvalidation_0-error:0.177804\tvalidation_0-logloss:0.594154\tvalidation_1-error:0.190476\tvalidation_1-logloss:0.600543\n",
      "[3]\tvalidation_0-error:0.181384\tvalidation_0-logloss:0.571607\tvalidation_1-error:0.17619\tvalidation_1-logloss:0.579572\n",
      "[4]\tvalidation_0-error:0.180191\tvalidation_0-logloss:0.551792\tvalidation_1-error:0.17619\tvalidation_1-logloss:0.562503\n",
      "[5]\tvalidation_0-error:0.178998\tvalidation_0-logloss:0.535496\tvalidation_1-error:0.17619\tvalidation_1-logloss:0.548037\n",
      "[6]\tvalidation_0-error:0.176611\tvalidation_0-logloss:0.521604\tvalidation_1-error:0.17619\tvalidation_1-logloss:0.535755\n",
      "[7]\tvalidation_0-error:0.174224\tvalidation_0-logloss:0.509794\tvalidation_1-error:0.185714\tvalidation_1-logloss:0.525856\n",
      "[8]\tvalidation_0-error:0.170644\tvalidation_0-logloss:0.499477\tvalidation_1-error:0.185714\tvalidation_1-logloss:0.518016\n",
      "[9]\tvalidation_0-error:0.171838\tvalidation_0-logloss:0.490783\tvalidation_1-error:0.185714\tvalidation_1-logloss:0.51149\n",
      "[10]\tvalidation_0-error:0.174224\tvalidation_0-logloss:0.483204\tvalidation_1-error:0.180952\tvalidation_1-logloss:0.505968\n",
      "[11]\tvalidation_0-error:0.174224\tvalidation_0-logloss:0.476101\tvalidation_1-error:0.185714\tvalidation_1-logloss:0.500052\n",
      "[12]\tvalidation_0-error:0.171838\tvalidation_0-logloss:0.470443\tvalidation_1-error:0.180952\tvalidation_1-logloss:0.496138\n",
      "[13]\tvalidation_0-error:0.171838\tvalidation_0-logloss:0.465476\tvalidation_1-error:0.185714\tvalidation_1-logloss:0.493026\n",
      "[14]\tvalidation_0-error:0.174224\tvalidation_0-logloss:0.460608\tvalidation_1-error:0.185714\tvalidation_1-logloss:0.489998\n",
      "[15]\tvalidation_0-error:0.171838\tvalidation_0-logloss:0.456678\tvalidation_1-error:0.185714\tvalidation_1-logloss:0.487399\n",
      "[16]\tvalidation_0-error:0.173031\tvalidation_0-logloss:0.453633\tvalidation_1-error:0.185714\tvalidation_1-logloss:0.485207\n",
      "[17]\tvalidation_0-error:0.171838\tvalidation_0-logloss:0.450272\tvalidation_1-error:0.190476\tvalidation_1-logloss:0.484071\n",
      "[18]\tvalidation_0-error:0.170644\tvalidation_0-logloss:0.447886\tvalidation_1-error:0.190476\tvalidation_1-logloss:0.482872\n",
      "[19]\tvalidation_0-error:0.171838\tvalidation_0-logloss:0.445103\tvalidation_1-error:0.185714\tvalidation_1-logloss:0.482388\n",
      "[20]\tvalidation_0-error:0.169451\tvalidation_0-logloss:0.442471\tvalidation_1-error:0.190476\tvalidation_1-logloss:0.481148\n",
      "[21]\tvalidation_0-error:0.169451\tvalidation_0-logloss:0.440715\tvalidation_1-error:0.190476\tvalidation_1-logloss:0.480453\n",
      "[22]\tvalidation_0-error:0.169451\tvalidation_0-logloss:0.439109\tvalidation_1-error:0.190476\tvalidation_1-logloss:0.480196\n",
      "[23]\tvalidation_0-error:0.169451\tvalidation_0-logloss:0.437725\tvalidation_1-error:0.190476\tvalidation_1-logloss:0.479792\n",
      "[24]\tvalidation_0-error:0.168258\tvalidation_0-logloss:0.435885\tvalidation_1-error:0.185714\tvalidation_1-logloss:0.479813\n",
      "[25]\tvalidation_0-error:0.169451\tvalidation_0-logloss:0.434772\tvalidation_1-error:0.185714\tvalidation_1-logloss:0.479107\n",
      "[26]\tvalidation_0-error:0.169451\tvalidation_0-logloss:0.431904\tvalidation_1-error:0.185714\tvalidation_1-logloss:0.479644\n",
      "[27]\tvalidation_0-error:0.169451\tvalidation_0-logloss:0.429238\tvalidation_1-error:0.185714\tvalidation_1-logloss:0.479572\n",
      "[28]\tvalidation_0-error:0.169451\tvalidation_0-logloss:0.427826\tvalidation_1-error:0.185714\tvalidation_1-logloss:0.479022\n",
      "[29]\tvalidation_0-error:0.167064\tvalidation_0-logloss:0.426706\tvalidation_1-error:0.185714\tvalidation_1-logloss:0.478787\n",
      "[30]\tvalidation_0-error:0.168258\tvalidation_0-logloss:0.425238\tvalidation_1-error:0.185714\tvalidation_1-logloss:0.479609\n",
      "[31]\tvalidation_0-error:0.168258\tvalidation_0-logloss:0.424174\tvalidation_1-error:0.185714\tvalidation_1-logloss:0.480081\n",
      "[32]\tvalidation_0-error:0.168258\tvalidation_0-logloss:0.423184\tvalidation_1-error:0.185714\tvalidation_1-logloss:0.480124\n",
      "[33]\tvalidation_0-error:0.168258\tvalidation_0-logloss:0.422512\tvalidation_1-error:0.185714\tvalidation_1-logloss:0.480214\n",
      "[34]\tvalidation_0-error:0.168258\tvalidation_0-logloss:0.421126\tvalidation_1-error:0.185714\tvalidation_1-logloss:0.480259\n",
      "[35]\tvalidation_0-error:0.168258\tvalidation_0-logloss:0.420014\tvalidation_1-error:0.185714\tvalidation_1-logloss:0.48025\n",
      "[36]\tvalidation_0-error:0.168258\tvalidation_0-logloss:0.417562\tvalidation_1-error:0.190476\tvalidation_1-logloss:0.480071\n",
      "[37]\tvalidation_0-error:0.168258\tvalidation_0-logloss:0.416711\tvalidation_1-error:0.195238\tvalidation_1-logloss:0.480703\n",
      "[38]\tvalidation_0-error:0.168258\tvalidation_0-logloss:0.41463\tvalidation_1-error:0.190476\tvalidation_1-logloss:0.480072\n",
      "[39]\tvalidation_0-error:0.168258\tvalidation_0-logloss:0.413373\tvalidation_1-error:0.190476\tvalidation_1-logloss:0.480178\n",
      "[40]\tvalidation_0-error:0.168258\tvalidation_0-logloss:0.41233\tvalidation_1-error:0.195238\tvalidation_1-logloss:0.480986\n",
      "[41]\tvalidation_0-error:0.168258\tvalidation_0-logloss:0.411369\tvalidation_1-error:0.195238\tvalidation_1-logloss:0.480598\n",
      "[42]\tvalidation_0-error:0.168258\tvalidation_0-logloss:0.410665\tvalidation_1-error:0.2\tvalidation_1-logloss:0.480259\n",
      "[43]\tvalidation_0-error:0.168258\tvalidation_0-logloss:0.41023\tvalidation_1-error:0.2\tvalidation_1-logloss:0.480145\n",
      "[44]\tvalidation_0-error:0.168258\tvalidation_0-logloss:0.409496\tvalidation_1-error:0.195238\tvalidation_1-logloss:0.480053\n",
      "[45]\tvalidation_0-error:0.168258\tvalidation_0-logloss:0.408434\tvalidation_1-error:0.195238\tvalidation_1-logloss:0.480462\n",
      "[46]\tvalidation_0-error:0.168258\tvalidation_0-logloss:0.407815\tvalidation_1-error:0.195238\tvalidation_1-logloss:0.480754\n",
      "[47]\tvalidation_0-error:0.168258\tvalidation_0-logloss:0.407159\tvalidation_1-error:0.195238\tvalidation_1-logloss:0.481238\n",
      "[48]\tvalidation_0-error:0.168258\tvalidation_0-logloss:0.406564\tvalidation_1-error:0.195238\tvalidation_1-logloss:0.481488\n",
      "[49]\tvalidation_0-error:0.168258\tvalidation_0-logloss:0.405609\tvalidation_1-error:0.195238\tvalidation_1-logloss:0.481944\n",
      "[50]\tvalidation_0-error:0.167064\tvalidation_0-logloss:0.403889\tvalidation_1-error:0.195238\tvalidation_1-logloss:0.482067\n",
      "[51]\tvalidation_0-error:0.167064\tvalidation_0-logloss:0.40335\tvalidation_1-error:0.195238\tvalidation_1-logloss:0.482156\n",
      "[52]\tvalidation_0-error:0.168258\tvalidation_0-logloss:0.402735\tvalidation_1-error:0.195238\tvalidation_1-logloss:0.482149\n",
      "[53]\tvalidation_0-error:0.168258\tvalidation_0-logloss:0.402002\tvalidation_1-error:0.195238\tvalidation_1-logloss:0.482571\n",
      "[54]\tvalidation_0-error:0.167064\tvalidation_0-logloss:0.399972\tvalidation_1-error:0.195238\tvalidation_1-logloss:0.482532\n",
      "[55]\tvalidation_0-error:0.167064\tvalidation_0-logloss:0.399502\tvalidation_1-error:0.195238\tvalidation_1-logloss:0.48339\n",
      "[56]\tvalidation_0-error:0.168258\tvalidation_0-logloss:0.398864\tvalidation_1-error:0.195238\tvalidation_1-logloss:0.483705\n",
      "[57]\tvalidation_0-error:0.164678\tvalidation_0-logloss:0.397299\tvalidation_1-error:0.195238\tvalidation_1-logloss:0.483712\n",
      "[58]\tvalidation_0-error:0.165871\tvalidation_0-logloss:0.39649\tvalidation_1-error:0.195238\tvalidation_1-logloss:0.484233\n",
      "[59]\tvalidation_0-error:0.165871\tvalidation_0-logloss:0.395836\tvalidation_1-error:0.195238\tvalidation_1-logloss:0.484686\n",
      "[60]\tvalidation_0-error:0.165871\tvalidation_0-logloss:0.394224\tvalidation_1-error:0.195238\tvalidation_1-logloss:0.485572\n",
      "[61]\tvalidation_0-error:0.165871\tvalidation_0-logloss:0.392734\tvalidation_1-error:0.195238\tvalidation_1-logloss:0.486078\n",
      "[62]\tvalidation_0-error:0.164678\tvalidation_0-logloss:0.391648\tvalidation_1-error:0.195238\tvalidation_1-logloss:0.48695\n",
      "[63]\tvalidation_0-error:0.164678\tvalidation_0-logloss:0.390957\tvalidation_1-error:0.195238\tvalidation_1-logloss:0.487694\n",
      "[64]\tvalidation_0-error:0.164678\tvalidation_0-logloss:0.390555\tvalidation_1-error:0.195238\tvalidation_1-logloss:0.487701\n",
      "[65]\tvalidation_0-error:0.164678\tvalidation_0-logloss:0.389996\tvalidation_1-error:0.195238\tvalidation_1-logloss:0.488055\n",
      "[66]\tvalidation_0-error:0.162291\tvalidation_0-logloss:0.388449\tvalidation_1-error:0.195238\tvalidation_1-logloss:0.488874\n",
      "[67]\tvalidation_0-error:0.163484\tvalidation_0-logloss:0.388025\tvalidation_1-error:0.195238\tvalidation_1-logloss:0.489064\n"
     ]
    },
    {
     "name": "stdout",
     "output_type": "stream",
     "text": [
      "[68]\tvalidation_0-error:0.163484\tvalidation_0-logloss:0.387667\tvalidation_1-error:0.195238\tvalidation_1-logloss:0.489951\n",
      "[69]\tvalidation_0-error:0.162291\tvalidation_0-logloss:0.386769\tvalidation_1-error:0.195238\tvalidation_1-logloss:0.489455\n",
      "[70]\tvalidation_0-error:0.162291\tvalidation_0-logloss:0.385376\tvalidation_1-error:0.195238\tvalidation_1-logloss:0.489283\n",
      "[71]\tvalidation_0-error:0.162291\tvalidation_0-logloss:0.384195\tvalidation_1-error:0.195238\tvalidation_1-logloss:0.489823\n",
      "[72]\tvalidation_0-error:0.162291\tvalidation_0-logloss:0.38365\tvalidation_1-error:0.195238\tvalidation_1-logloss:0.490138\n",
      "[73]\tvalidation_0-error:0.161098\tvalidation_0-logloss:0.383324\tvalidation_1-error:0.195238\tvalidation_1-logloss:0.49015\n",
      "[74]\tvalidation_0-error:0.161098\tvalidation_0-logloss:0.382673\tvalidation_1-error:0.195238\tvalidation_1-logloss:0.49049\n",
      "[75]\tvalidation_0-error:0.161098\tvalidation_0-logloss:0.382022\tvalidation_1-error:0.195238\tvalidation_1-logloss:0.490284\n",
      "[76]\tvalidation_0-error:0.159905\tvalidation_0-logloss:0.381066\tvalidation_1-error:0.195238\tvalidation_1-logloss:0.491197\n",
      "[77]\tvalidation_0-error:0.158711\tvalidation_0-logloss:0.380636\tvalidation_1-error:0.195238\tvalidation_1-logloss:0.491444\n",
      "[78]\tvalidation_0-error:0.158711\tvalidation_0-logloss:0.378929\tvalidation_1-error:0.195238\tvalidation_1-logloss:0.492278\n",
      "[79]\tvalidation_0-error:0.158711\tvalidation_0-logloss:0.377704\tvalidation_1-error:0.195238\tvalidation_1-logloss:0.492812\n",
      "[80]\tvalidation_0-error:0.158711\tvalidation_0-logloss:0.377073\tvalidation_1-error:0.195238\tvalidation_1-logloss:0.493582\n",
      "[81]\tvalidation_0-error:0.158711\tvalidation_0-logloss:0.376398\tvalidation_1-error:0.195238\tvalidation_1-logloss:0.494194\n",
      "[82]\tvalidation_0-error:0.158711\tvalidation_0-logloss:0.375513\tvalidation_1-error:0.195238\tvalidation_1-logloss:0.494807\n",
      "[83]\tvalidation_0-error:0.158711\tvalidation_0-logloss:0.374943\tvalidation_1-error:0.195238\tvalidation_1-logloss:0.494954\n",
      "[84]\tvalidation_0-error:0.157518\tvalidation_0-logloss:0.373796\tvalidation_1-error:0.195238\tvalidation_1-logloss:0.496189\n",
      "[85]\tvalidation_0-error:0.156325\tvalidation_0-logloss:0.371788\tvalidation_1-error:0.195238\tvalidation_1-logloss:0.497269\n",
      "[86]\tvalidation_0-error:0.156325\tvalidation_0-logloss:0.370988\tvalidation_1-error:0.195238\tvalidation_1-logloss:0.497843\n",
      "[87]\tvalidation_0-error:0.155131\tvalidation_0-logloss:0.370295\tvalidation_1-error:0.195238\tvalidation_1-logloss:0.498572\n",
      "[88]\tvalidation_0-error:0.155131\tvalidation_0-logloss:0.369311\tvalidation_1-error:0.195238\tvalidation_1-logloss:0.498585\n",
      "[89]\tvalidation_0-error:0.155131\tvalidation_0-logloss:0.368734\tvalidation_1-error:0.195238\tvalidation_1-logloss:0.499003\n",
      "[90]\tvalidation_0-error:0.155131\tvalidation_0-logloss:0.367937\tvalidation_1-error:0.195238\tvalidation_1-logloss:0.499357\n",
      "[91]\tvalidation_0-error:0.155131\tvalidation_0-logloss:0.367389\tvalidation_1-error:0.195238\tvalidation_1-logloss:0.499618\n",
      "[92]\tvalidation_0-error:0.155131\tvalidation_0-logloss:0.366904\tvalidation_1-error:0.195238\tvalidation_1-logloss:0.499763\n",
      "[93]\tvalidation_0-error:0.153938\tvalidation_0-logloss:0.366221\tvalidation_1-error:0.195238\tvalidation_1-logloss:0.500483\n",
      "[94]\tvalidation_0-error:0.155131\tvalidation_0-logloss:0.365511\tvalidation_1-error:0.190476\tvalidation_1-logloss:0.500197\n",
      "[95]\tvalidation_0-error:0.153938\tvalidation_0-logloss:0.365069\tvalidation_1-error:0.190476\tvalidation_1-logloss:0.500504\n",
      "[96]\tvalidation_0-error:0.153938\tvalidation_0-logloss:0.364382\tvalidation_1-error:0.190476\tvalidation_1-logloss:0.500929\n",
      "[97]\tvalidation_0-error:0.153938\tvalidation_0-logloss:0.364002\tvalidation_1-error:0.190476\tvalidation_1-logloss:0.500819\n",
      "[98]\tvalidation_0-error:0.153938\tvalidation_0-logloss:0.362374\tvalidation_1-error:0.190476\tvalidation_1-logloss:0.500932\n",
      "[99]\tvalidation_0-error:0.153938\tvalidation_0-logloss:0.361552\tvalidation_1-error:0.190476\tvalidation_1-logloss:0.501407\n",
      "Accuracy: 80.95%\n"
     ]
    }
   ],
   "source": [
    "# Test options and evaluation metric\n",
    "num_folds = 10\n",
    "seed = np.random.seed\n",
    "X_train, X_test, Y_train, Y_test = train_test_split(x, np.ravel(y), test_size = 0.2\n",
    "                                                    ,random_state = 7)\n",
    "#fit model on training data\n",
    "model = XGBClassifier()\n",
    "eval_set = [(X_train, Y_train), (X_test, Y_test)]\n",
    "model.fit(X_train, Y_train, eval_metric=[\"error\", \"logloss\"], eval_set=eval_set,\n",
    "verbose=True)\n",
    "# make predictions for test data\n",
    "predictions = model.predict(X_test)\n",
    "# evaluate predictions\n",
    "accuracy = accuracy_score(Y_test, predictions)\n",
    "print(\"Accuracy: %.2f%%\" % (accuracy * 100.0))"
   ]
  },
  {
   "cell_type": "code",
   "execution_count": 17,
   "metadata": {},
   "outputs": [
    {
     "data": {
      "image/png": "[encoded data removed]",
      "text/plain": [
       "<Figure size 432x288 with 1 Axes>"
      ]
     },
     "metadata": {
      "needs_background": "light"
     },
     "output_type": "display_data"
    }
   ],
   "source": [
    "# retrieve performance metrics\n",
    "results = model.evals_result()\n",
    "epochs = len(results['validation_0']['error'])\n",
    "x_axis = range(0, epochs)\n",
    "# plot log loss\n",
    "fig, ax = pyplot.subplots()\n",
    "ax.plot(x_axis, results['validation_0']['logloss'], label='Train')\n",
    "ax.plot(x_axis, results['validation_1']['logloss'], label='Test')\n",
    "ax.legend()\n",
    "pyplot.ylabel('Log Loss')\n",
    "pyplot.title('XGBoost Log Loss')\n",
    "pyplot.show()"
   ]
  },
  {
   "cell_type": "code",
   "execution_count": 18,
   "metadata": {},
   "outputs": [
    {
     "data": {
      "image/png": "[encoded data removed]",
      "text/plain": [
       "<Figure size 432x288 with 1 Axes>"
      ]
     },
     "metadata": {
      "needs_background": "light"
     },
     "output_type": "display_data"
    }
   ],
   "source": [
    "# plot classification error\n",
    "fig, ax = pyplot.subplots()\n",
    "ax.plot(x_axis, results['validation_0']['error'], label='Train')\n",
    "ax.plot(x_axis, results['validation_1']['error'], label='Test')\n",
    "ax.legend()\n",
    "pyplot.ylabel('Classification Error')\n",
    "pyplot.title('XGBoost Classification Error')\n",
    "pyplot.show()"
   ]
  },
  {
   "cell_type": "code",
   "execution_count": 19,
   "metadata": {},
   "outputs": [
    {
     "name": "stdout",
     "output_type": "stream",
     "text": [
      "              precision    recall  f1-score   support\n",
      "\n",
      "           0       0.83      0.97      0.89       173\n",
      "           1       0.29      0.05      0.09        37\n",
      "\n",
      "   micro avg       0.81      0.81      0.81       210\n",
      "   macro avg       0.56      0.51      0.49       210\n",
      "weighted avg       0.73      0.81      0.75       210\n",
      "\n"
     ]
    }
   ],
   "source": [
    "from sklearn.metrics import classification_report\n",
    "print(classification_report(Y_test, predictions))\n"
   ]
  },
  {
   "cell_type": "code",
   "execution_count": 20,
   "metadata": {},
   "outputs": [
    {
     "name": "stdout",
     "output_type": "stream",
     "text": [
      "Saving model to /usr/local/bin/Gender Prediction/Code/flask/xgboostAPI2.pkl...\n"
     ]
    },
    {
     "data": {
      "text/plain": [
       "['/usr/local/bin/Gender Prediction/Code/flask/xgboostAPI2.pkl']"
      ]
     },
     "execution_count": 20,
     "metadata": {},
     "output_type": "execute_result"
    }
   ],
   "source": [
    "# Save the model\n",
    "from sklearn.externals import joblib\n",
    "model_filename = '/usr/local/bin/Gender Prediction/Code/flask/xgboostAPI2.pkl'\n",
    "print(\"Saving model to {}...\".format(model_filename))\n",
    "joblib.dump(model, model_filename)"
   ]
  },
  {
   "cell_type": "code",
   "execution_count": 21,
   "metadata": {},
   "outputs": [],
   "source": [
    "\n",
    "joblib_model = joblib.load(model_filename)\n"
   ]
  },
  {
   "cell_type": "markdown",
   "metadata": {},
   "source": [
    "# Predict using Fictional browser"
   ]
  },
  {
   "cell_type": "code",
   "execution_count": 22,
   "metadata": {},
   "outputs": [],
   "source": [
    "\n",
    "    max_len = 27\n",
    "    \n",
    "    "
   ]
  },
  {
   "cell_type": "code",
   "execution_count": 23,
   "metadata": {},
   "outputs": [],
   "source": [
    "# Create your own browser\n",
    "x_UserId = 'USer ID here' \n",
    "x_URL= 'URL NAME' \n",
    "x_longDescription = str(\"URL Description here\")\n",
    "x_DateTime=\"Time format\""
   ]
  },
  {
   "cell_type": "code",
   "execution_count": 24,
   "metadata": {},
   "outputs": [],
   "source": [
    "# make a copy of the original data set in order to create dummy categories that are the same as seen on \n",
    "# original data\n",
    "fictional_df = pd.DataFrame([[x_UserId, \n",
    "                                     x_URL,x_longDescription,\n",
    "                                     x_DateTime]], columns = ['UserId','URL', 'long_description', 'DateTime']) \n"
   ]
  },
  {
   "cell_type": "code",
   "execution_count": null,
   "metadata": {},
   "outputs": [],
   "source": [
    "print(fictional_df)"
   ]
  },
  {
   "cell_type": "code",
   "execution_count": 26,
   "metadata": {},
   "outputs": [],
   "source": [
    "def DataprepTest(df):\n",
    "    \n",
    "    \n",
    "    df.dropna(subset=['UserId'],inplace=True)\n",
    "    df.dropna(subset=['long_description'],inplace=True)\n",
    "    df.dropna(subset=['DateTime'],inplace=True)\n",
    "\n",
    "    df['Create Time'] = pd.to_datetime(df['DateTime'])\n",
    "\n",
    "    # Category Based Features \n",
    "    df['URL'].str.strip()\n",
    "    df['domain'] = df['URL'].str.split('//').str[-1].str.split('/').str[0]\n",
    "    df['Count'] = df['URL'].str.split('//').str[-1].str.split('/').str.len()\n",
    "    mask = df['Count'] > 2\n",
    "\n",
    "    df['Categ'] = np.where(mask,df['URL'].str.split('//').str[-1].str.split('/').str[1], 'No Category')\n",
    "    df['Subcateg'] = np.where(mask, df['URL'].str.split('//').str[-1].str.split('/').str[2], 'No Subcategory')\n",
    "\n",
    "    df['Categ'] = df.Categ.astype('category')\n",
    "    df['Subcateg']= df.Subcateg.astype('category')\n",
    "    df['domain'] = df.domain.astype('category')\n",
    "    df1=df[mask]\n",
    "    # Time n Squential Based\n",
    "  \n",
    "    df1[\"Create Time\"]= pd.to_datetime(df1['Create Time'])\n",
    "    df1['time_hour'] = df1['Create Time'].apply(lambda x: x.hour)\n",
    "\n",
    "    df2 = df1[df1['long_description'].notna()]\n",
    "\n",
    "    def sent_to_words(sentences):\n",
    "        for sent in sentences:\n",
    "            sent = re.sub('\\S*@\\S*\\s?', '', sent)  # remove emails\n",
    "            sent = re.sub('\\s+', ' ', sent)  # remove newline chars\n",
    "            sent = re.sub(\"\\'\", \"\", sent)  # remove single quotes\n",
    "            sent = gensim.utils.simple_preprocess(str(sent), deacc=True) \n",
    "            yield(sent)  \n",
    "    # Convert to list\n",
    "    data_ld = df2.long_description.values.tolist()\n",
    "\n",
    "    data_words = list(sent_to_words(data_ld))\n",
    "     #Define functions for stopwords, bigrams, trigrams and lemmatization\n",
    "    def remove_stopwords(texts):\n",
    "        return [[word for word in simple_preprocess(str(doc)) if word not in stop_words] for doc in texts]\n",
    "\n",
    "    def make_bigrams(texts):\n",
    "        return [bigram_mod[doc] for doc in texts]\n",
    "\n",
    "    def make_trigrams(texts):\n",
    "        return [trigram_mod[bigram_mod[doc]] for doc in texts]\n",
    "\n",
    "    def lemmatization(texts, allowed_postags=['NOUN', 'ADJ', 'VERB', 'ADV']):\n",
    "        \"\"\"https://spacy.io/api/annotation\"\"\"\n",
    "        texts_out = []\n",
    "        for sent in texts:\n",
    "            doc = nlp(\" \".join(sent)) \n",
    "            texts_out.append([token.lemma_ for token in doc if token.pos_ in allowed_postags])\n",
    "        return texts_out\n",
    "\n",
    "    # Build the bigram and trigram models\n",
    "    bigram = gensim.models.Phrases(data_words, min_count=5, threshold=100) # higher threshold fewer phrases.\n",
    "    trigram = gensim.models.Phrases(bigram[data_words], threshold=100)  \n",
    "\n",
    "    # Faster way to get a sentence clubbed as a trigram/bigram\n",
    "    bigram_mod = gensim.models.phrases.Phraser(bigram)\n",
    "    trigram_mod = gensim.models.phrases.Phraser(trigram)\n",
    "    # Remove Stop Words\n",
    "    data_words_nostops = remove_stopwords(data_words)\n",
    "\n",
    "    # Form Bigrams\n",
    "    data_words_bigrams = make_bigrams(data_words_nostops)\n",
    "\n",
    "    # Initialize spacy 'en' model, keeping only tagger component (for efficiency)\n",
    "    # python3 -m spacy download en\n",
    "    nlp = spacy.load('en', disable=['parser', 'ner'])\n",
    "\n",
    "    # Do lemmatization keeping only noun, adj, vb, adv\n",
    "    data_lemmatized = lemmatization(data_words_bigrams, allowed_postags=['NOUN', 'ADJ', 'VERB', 'ADV'])\n",
    "    # Create Dictionary\n",
    "    id2word = corpora.Dictionary(data_lemmatized)\n",
    "\n",
    "    # Create Corpus\n",
    "    texts = data_lemmatized\n",
    "\n",
    "    # Term Document Frequency\n",
    "    corpus = [id2word.doc2bow(text) for text in texts]\n",
    "    #For Gibbs sampling using MAllet package...\n",
    "    mallet_path = '/usr/local/bin//mallet-2.0.8/bin/mallet' # update this path\n",
    "    ldamallet = gensim.models.wrappers.LdaMallet(mallet_path, corpus=corpus, num_topics=20, id2word=id2word)\n",
    "\n",
    "    # Build LDA model\n",
    "    lda_model = gensim.models.ldamodel.LdaModel(corpus=corpus,\n",
    "                                               id2word=id2word,\n",
    "                                               num_topics=20, \n",
    "                                               random_state=100,\n",
    "                                               update_every=1,\n",
    "                                               chunksize=100,\n",
    "                                               passes=10,\n",
    "                                               alpha='auto',\n",
    "                                               per_word_topics=True)\n",
    "\n",
    "    def format_topics_sentences(ldamodel=lda_model, corpus=corpus, texts=data_ld):\n",
    "        # Init output\n",
    "        sent_topics_df = pd.DataFrame()\n",
    "\n",
    "        # Get main topic in each document\n",
    "        for i, row in enumerate(ldamodel[corpus]):\n",
    "            row = sorted(row, key=lambda x: (x[1]), reverse=True)\n",
    "            # Get the Dominant topic, Perc Contribution and Keywords for each document\n",
    "            for j, (topic_num, prop_topic) in enumerate(row):\n",
    "                if j == 0:  # => dominant topic\n",
    "                    wp = ldamodel.show_topic(topic_num)\n",
    "                    topic_keywords = \", \".join([word for word, prop in wp])\n",
    "                    sent_topics_df = sent_topics_df.append(pd.Series([int(topic_num), round(prop_topic,4), topic_keywords]), ignore_index=True)\n",
    "                else:\n",
    "                    break\n",
    "        sent_topics_df.columns = ['Dominant_Topic', 'Perc_Contribution', 'Topic_Keywords']\n",
    "\n",
    "        # Add original text to the end of the output\n",
    "        contents = pd.Series(texts)\n",
    "        sent_topics_df = pd.concat([sent_topics_df, contents], axis=1)\n",
    "        return(sent_topics_df)\n",
    "\n",
    "    # Compute Coherence Score\n",
    "    def compute_coherence_values(dictionary, corpus, texts, limit, start=2, step=3):\n",
    "        \"\"\"\n",
    "        Compute c_v coherence for various number of topics\n",
    "    Parameters:\n",
    "        ----------\n",
    "        dictionary : Gensim dictionary\n",
    "        corpus : Gensim corpus\n",
    "        texts : List of input texts\n",
    "        limit : Max num of topics\n",
    "     Returns:\n",
    "        -------\n",
    "        model_list : List of LDA topic models\n",
    "        coherence_values : Coherence values corresponding to the LDA model with respective number of topics\n",
    "        \"\"\"\n",
    "        coherence_values = []\n",
    "        model_list = []\n",
    "        for num_topics in range(start, limit, step):\n",
    "            model = gensim.models.wrappers.LdaMallet(mallet_path, corpus=corpus, num_topics=num_topics, id2word=id2word)\n",
    "            model_list.append(model)\n",
    "            coherencemodel = CoherenceModel(model=model, texts=texts, dictionary=dictionary, coherence='c_v')\n",
    "            coherence_values.append(coherencemodel.get_coherence())\n",
    "\n",
    "        return model_list, coherence_values\n",
    "    coherence_model_ldamallet = CoherenceModel(model=ldamallet, texts=data_lemmatized, dictionary=id2word, coherence='c_v')\n",
    "    coherence_ldamallet = coherence_model_ldamallet.get_coherence()\n",
    "    model_list, coherence_values = compute_coherence_values(dictionary=id2word, corpus=corpus, texts=data_lemmatized, start=2, limit=40, step=6)\n",
    "    # Select the model and print the topics\n",
    "    optimal_model = model_list[3]\n",
    "    model_topics = optimal_model.show_topics(formatted=False)\n",
    "\n",
    "    df_topic_sents_keywords = format_topics_sentences(ldamodel=optimal_model, corpus=corpus, texts=data_ld )\n",
    "\n",
    "    # Format\n",
    "    df_dominant_topic = df_topic_sents_keywords.reset_index()\n",
    "    df_dominant_topic.columns = ['Document_No', 'Dominant_Topic', 'Topic_Perc_Contrib', 'Keywords', 'long_description']\n",
    "\n",
    "    df3 = pd.merge(df1, df_dominant_topic, on='long_description')\n",
    "\n",
    "    params = [\"UserId\", \"Create Time\",\"Categ\",\"time_hour\", \"URL\", \"Subcateg\", \"Topic_Perc_Contrib\", \"domain\"]\n",
    "\n",
    "    sqFeatures = df3[params]\n",
    "\n",
    "    from sklearn.preprocessing import LabelEncoder, OneHotEncoder\n",
    "    cat_columns = [ \"Categ\",\"time_hour\", \"Subcateg\", \"domain\"]\n",
    "    sqFeatures[cat_columns].apply(lambda col: col.astype('category'))\n",
    "    # add it to our new dataframe\n",
    "    label_encoders = {}\n",
    "    for col in cat_columns:\n",
    "        print(\"Encoding {}\".format(col))\n",
    "        new_le = LabelEncoder()\n",
    "        sqFeatures[col] = pd.factorize(sqFeatures[col])[0]\n",
    "        sqFeatures[col] = new_le.fit_transform(sqFeatures[col])\n",
    "        label_encoders[col] = new_le  \n",
    "    sqFeatures['mutualInfo_re'] = 0\n",
    "\n",
    "    sqFeatures = sqFeatures.groupby('UserId')[[ \"Create Time\",\"Categ\",\"time_hour\", \"URL\", \"Subcateg\", \"Topic_Perc_Contrib\", \"domain\",\"mutualInfo_re\"]].agg(lambda x: x.tolist())\n",
    "    sqFeatures['domain'] = sqFeatures['domain'].apply(lambda x: np.array(x))\n",
    "    sqFeatures['Categ'] = sqFeatures['Categ'].apply(lambda x: np.array(x))\n",
    "    sqFeatures['time_hour'] = sqFeatures['time_hour'].apply(lambda x: np.array(x))\n",
    "    sqFeatures['Subcateg'] = sqFeatures['Subcateg'].apply(lambda x: np.array(x))\n",
    "    sqFeatures['Topic_Perc_Contrib'] = sqFeatures['Topic_Perc_Contrib'].apply(lambda x: np.array(x))\n",
    "\n",
    "    sqFeatures['mutualInfo_re'] = sqFeatures['mutualInfo_re'].apply(lambda x: np.array(x))\n",
    "\n",
    "    max_len = 27\n",
    "\n",
    "    sqFeatures['mutualInfo_re'] =sqFeatures['mutualInfo_re'].apply(lambda x: np.pad(x, (0, max_len- 1), 'constant', constant_values=0))\n",
    "    sqFeatures['Categ'] = sqFeatures['Categ'].apply(lambda x: np.pad(x, (0, max_len - len(x)), 'constant', constant_values=0))\n",
    "    sqFeatures['domain'] = sqFeatures['domain'].apply(lambda x: np.pad(x, (0, max_len - len(x)), 'constant', constant_values=0))\n",
    "    sqFeatures['time_hour'] = sqFeatures['time_hour'].apply(lambda x: np.pad(x, (0, max_len - len(x)), 'constant', constant_values=0))        \n",
    "    sqFeatures['Subcateg'] = sqFeatures['Subcateg'].apply(lambda x: np.pad(x, (0, max_len - len(x)), 'constant', constant_values=0))\n",
    "    #sqFeatures['mutualInfo_sub'] = sqFeatures['mutualInfo_sub'].apply(lambda x: np.pad(x, (0, max_len - len(x)), 'constant', constant_values=0))\n",
    "    sqFeatures['Topic_Perc_Contrib'] = sqFeatures['Topic_Perc_Contrib'].apply(lambda x: np.pad(x, (0, max_len - len(x)), 'constant', constant_values=0))\n",
    "    Features = [\"Categ\",\"time_hour\", \"Subcateg\", \"Topic_Perc_Contrib\", \"domain\", \"mutualInfo_re\"]\n",
    "    sqFeatures['combined'] = sqFeatures[Features].values.tolist()\n",
    "    #DF = sqFeatures['combined']\n",
    "  \n",
    "    \n",
    "    return sqFeatures"
   ]
  },
  {
   "cell_type": "code",
   "execution_count": 27,
   "metadata": {},
   "outputs": [
    {
     "name": "stderr",
     "output_type": "stream",
     "text": [
      "/usr/local/lib/python3.5/dist-packages/gensim/models/wrappers/ldamallet.py:380: RuntimeWarning: invalid value encountered in true_divide\n",
      "  return topics / topics.sum(axis=1)[:, None]\n"
     ]
    },
    {
     "name": "stdout",
     "output_type": "stream",
     "text": [
      "Encoding Categ\n",
      "Encoding time_hour\n"
     ]
    },
    {
     "name": "stderr",
     "output_type": "stream",
     "text": [
      "/usr/local/lib/python3.5/dist-packages/ipykernel_launcher.py:174: SettingWithCopyWarning: \n",
      "A value is trying to be set on a copy of a slice from a DataFrame.\n",
      "Try using .loc[row_indexer,col_indexer] = value instead\n",
      "\n",
      "See the caveats in the documentation: http://pandas.pydata.org/pandas-docs/stable/indexing.html#indexing-view-versus-copy\n",
      "/usr/local/lib/python3.5/dist-packages/ipykernel_launcher.py:175: SettingWithCopyWarning: \n",
      "A value is trying to be set on a copy of a slice from a DataFrame.\n",
      "Try using .loc[row_indexer,col_indexer] = value instead\n",
      "\n",
      "See the caveats in the documentation: http://pandas.pydata.org/pandas-docs/stable/indexing.html#indexing-view-versus-copy\n"
     ]
    },
    {
     "name": "stdout",
     "output_type": "stream",
     "text": [
      "Encoding Subcateg\n",
      "Encoding domain\n"
     ]
    },
    {
     "name": "stderr",
     "output_type": "stream",
     "text": [
      "/usr/local/lib/python3.5/dist-packages/ipykernel_launcher.py:177: SettingWithCopyWarning: \n",
      "A value is trying to be set on a copy of a slice from a DataFrame.\n",
      "Try using .loc[row_indexer,col_indexer] = value instead\n",
      "\n",
      "See the caveats in the documentation: http://pandas.pydata.org/pandas-docs/stable/indexing.html#indexing-view-versus-copy\n"
     ]
    }
   ],
   "source": [
    "xFict = DataprepTest(fictional_df)\n",
    "\n"
   ]
  },
  {
   "cell_type": "code",
   "execution_count": null,
   "metadata": {},
   "outputs": [],
   "source": [
    "print(xFict)"
   ]
  },
  {
   "cell_type": "code",
   "execution_count": 29,
   "metadata": {},
   "outputs": [],
   "source": [
    "XFict2 = xFict.drop(['Create Time', 'Categ', 'time_hour', 'URL', 'Subcateg', 'Topic_Perc_Contrib', 'domain','mutualInfo_re'], axis = 1) "
   ]
  },
  {
   "cell_type": "code",
   "execution_count": 30,
   "metadata": {},
   "outputs": [
    {
     "data": {
      "text/plain": [
       "<map at 0x7f5fc22def60>"
      ]
     },
     "execution_count": 30,
     "metadata": {},
     "output_type": "execute_result"
    }
   ],
   "source": [
    "map(lambda x : x,XFict2['combined'].iloc[0:1])\n"
   ]
  },
  {
   "cell_type": "code",
   "execution_count": 31,
   "metadata": {},
   "outputs": [
    {
     "name": "stderr",
     "output_type": "stream",
     "text": [
      "/usr/local/lib/python3.5/dist-packages/ipykernel_launcher.py:1: FutureWarning: Method .as_matrix will be removed in a future version. Use .values instead.\n",
      "  \"\"\"Entry point for launching an IPython kernel.\n"
     ]
    }
   ],
   "source": [
    "series1 = XFict2['combined'].apply(lambda x : np.array(x)).as_matrix().reshape(-1,1)"
   ]
  },
  {
   "cell_type": "code",
   "execution_count": null,
   "metadata": {},
   "outputs": [],
   "source": [
    "print(XFict2.shape)\n",
    "print(series1)"
   ]
  },
  {
   "cell_type": "code",
   "execution_count": 33,
   "metadata": {},
   "outputs": [],
   "source": [
    "#feature = np.array([e.tolist() for e in series1.flatten()]).reshape(series1.shape[0],series1.shape[1],-1)\n",
    "features1 = np.apply_along_axis(lambda x : x[0], 1, series1)\n"
   ]
  },
  {
   "cell_type": "code",
   "execution_count": 34,
   "metadata": {},
   "outputs": [],
   "source": [
    "nsamples, nx, ny = features1.shape"
   ]
  },
  {
   "cell_type": "code",
   "execution_count": 38,
   "metadata": {},
   "outputs": [],
   "source": [
    "x1 = features1.reshape(nsamples,nx*ny)"
   ]
  },
  {
   "cell_type": "code",
   "execution_count": 39,
   "metadata": {},
   "outputs": [],
   "source": [
    "# make predictions for test data\n",
    "from sklearn.externals import joblib\n",
    "model_filename = '/usr/local/bin/Gender Prediction/Code/flask/xgboostAPI2.pkl'\n",
    "model = joblib.load(model_filename)\n"
   ]
  },
  {
   "cell_type": "markdown",
   "metadata": {},
   "source": []
  },
  {
   "cell_type": "code",
   "execution_count": 40,
   "metadata": {},
   "outputs": [
    {
     "name": "stdout",
     "output_type": "stream",
     "text": [
      "Probability of you being a Female : 27.70 percent\n",
      "[[0.72304535 0.27695462]]\n"
     ]
    }
   ],
   "source": [
    "Y_pred = model.predict_proba(x1)\n",
    "probability_of_fictional_user = Y_pred[0][1] * 100\n",
    "print('Probability of you being a Female : %.2f percent' % probability_of_fictional_user)\n",
    "print(Y_pred)"
   ]
  }
 ],
 "metadata": {
  "kernelspec": {
   "display_name": "Python 3",
   "language": "python",
   "name": "python3"
  },
  "language_info": {
   "codemirror_mode": {
    "name": "ipython",
    "version": 3
   },
   "file_extension": ".py",
   "mimetype": "text/x-python",
   "name": "python",
   "nbconvert_exporter": "python",
   "pygments_lexer": "ipython3",
   "version": "3.7.6"
  }
 },
 "nbformat": 4,
 "nbformat_minor": 2
}
